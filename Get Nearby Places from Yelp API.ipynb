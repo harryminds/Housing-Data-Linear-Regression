{
 "cells": [
  {
   "cell_type": "code",
   "execution_count": 145,
   "metadata": {},
   "outputs": [],
   "source": [
    "from yelpapi import YelpAPI\n",
    "import json\n",
    "import time as time\n",
    "import numpy as np\n",
    "\n",
    "f = open('.api_keys')\n",
    "api_key = json.loads(f.read())['yelp_api']\n",
    "yelp_api = YelpAPI(api_key)"
   ]
  },
  {
   "cell_type": "code",
   "execution_count": 106,
   "metadata": {},
   "outputs": [],
   "source": [
    "import pandas as pd\n",
    "import pyarrow.feather as feather\n",
    "\n",
    "\n",
    "houses_df = feather.read_feather('data/dutchess_county_residence_sales_07_2019_06_2022.feather')"
   ]
  },
  {
   "cell_type": "code",
   "execution_count": 124,
   "metadata": {},
   "outputs": [],
   "source": [
    "sample = houses_df.sample(200)"
   ]
  },
  {
   "cell_type": "code",
   "execution_count": 125,
   "metadata": {},
   "outputs": [
    {
     "name": "stdout",
     "output_type": "stream",
     "text": [
      "200 / 200\r"
     ]
    }
   ],
   "source": [
    "grocery = []\n",
    "elementaryschools = []\n",
    "highschools = [] \n",
    "preschools = []\n",
    "coffee = [] \n",
    "hospitals = []\n",
    "restaurants = []\n",
    "\n",
    "search_terms = {\n",
    "    'grocery': grocery, \n",
    "    'elementaryschools':elementaryschools, \n",
    "    'highschools':highschools, \n",
    "    'preschools':preschools, \n",
    "    'coffee':coffee, \n",
    "    'hospitals':hospitals,\n",
    "    'restaurants':restaurants\n",
    "}\n",
    "\n",
    "count = 0\n",
    "\n",
    "for index, house in sample.iterrows():\n",
    "    long = house['long']\n",
    "    lat = house['lat']\n",
    "    for search_term in search_terms.keys():\n",
    "        results = yelp_api.search_query(categories=search_term, longitude=long, latitude=lat, sort_by='distance', limit=50)\n",
    "        search_terms[search_term].extend(results['businesses'])\n",
    "    print(f'{count+1} / {len(sample)}', end='\\r')\n",
    "    count += 1\n",
    "    "
   ]
  },
  {
   "cell_type": "code",
   "execution_count": 169,
   "metadata": {},
   "outputs": [],
   "source": [
    "dfs = {x:pd.DataFrame(search_terms[x]).drop_duplicates(subset='id') for x in search_terms.keys()}"
   ]
  },
  {
   "cell_type": "code",
   "execution_count": 171,
   "metadata": {},
   "outputs": [],
   "source": [
    "for key in dfs.keys():\n",
    "    this_df = dfs[key]\n",
    "    try:\n",
    "        this_df = this_df.drop(columns=['price'])\n",
    "    except:\n",
    "        pass\n",
    "    this_df = this_df[this_df['is_closed'] == False].drop(columns=['alias','image_url','is_closed','url','review_count','categories','transactions','location','phone','display_phone','distance'])\n",
    "    this_df['rating'] = this_df['rating'].astype(float)\n",
    "    this_df = this_df[this_df['rating'] > 3]\n",
    "    this_df['long'] = np.nan\n",
    "    this_df['lat'] = np.nan\n",
    "    for index, row in this_df.iterrows():\n",
    "        this_df.loc[index, 'long'] = row['coordinates']['longitude']\n",
    "        this_df.loc[index, 'lat'] = row['coordinates']['latitude']\n",
    "    this_df = this_df.drop(columns=['coordinates'])\n",
    "\n",
    "    dfs[key] = this_df"
   ]
  },
  {
   "cell_type": "code",
   "execution_count": 219,
   "metadata": {},
   "outputs": [],
   "source": [
    "for key in dfs.keys():\n",
    "    feather.write_feather(dfs[key], f'data/dutchess_county_{key}_list.feather')"
   ]
  }
 ],
 "metadata": {
  "kernelspec": {
   "display_name": "Python (learn-env)",
   "language": "python",
   "name": "learn-env"
  },
  "language_info": {
   "codemirror_mode": {
    "name": "ipython",
    "version": 3
   },
   "file_extension": ".py",
   "mimetype": "text/x-python",
   "name": "python",
   "nbconvert_exporter": "python",
   "pygments_lexer": "ipython3",
   "version": "3.8.5"
  }
 },
 "nbformat": 4,
 "nbformat_minor": 4
}
